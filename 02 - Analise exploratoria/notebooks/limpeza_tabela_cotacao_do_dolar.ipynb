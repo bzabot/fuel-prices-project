{
 "cells": [
  {
   "cell_type": "code",
   "execution_count": 1,
   "id": "6a67d3db",
   "metadata": {},
   "outputs": [],
   "source": [
    "import pandas as pd\n",
    "import numpy as np\n",
    "\n",
    "%matplotlib inline\n",
    "\n",
    "df_usd_brl = pd.read_csv('../data/tabelas antes da limpeza/usd_brl_data.csv')"
   ]
  },
  {
   "cell_type": "markdown",
   "id": "a38ff7bc",
   "metadata": {},
   "source": [
    "Tabela antes da limpeza"
   ]
  },
  {
   "cell_type": "code",
   "execution_count": 2,
   "id": "0620c643",
   "metadata": {},
   "outputs": [
    {
     "name": "stdout",
     "output_type": "stream",
     "text": [
      "<class 'pandas.core.frame.DataFrame'>\n",
      "RangeIndex: 4841 entries, 0 to 4840\n",
      "Data columns (total 7 columns):\n",
      " #   Column    Non-Null Count  Dtype \n",
      "---  ------    --------------  ----- \n",
      " 0   Data      4841 non-null   object\n",
      " 1   Último    4841 non-null   object\n",
      " 2   Abertura  4841 non-null   object\n",
      " 3   Máxima    4841 non-null   object\n",
      " 4   Mínima    4841 non-null   object\n",
      " 5   Vol.      922 non-null    object\n",
      " 6   Var%      4841 non-null   object\n",
      "dtypes: object(7)\n",
      "memory usage: 264.9+ KB\n"
     ]
    }
   ],
   "source": [
    "df_usd_brl.info()"
   ]
  },
  {
   "cell_type": "code",
   "execution_count": 3,
   "id": "2fc9b471",
   "metadata": {},
   "outputs": [
    {
     "data": {
      "text/html": [
       "<div>\n",
       "<style scoped>\n",
       "    .dataframe tbody tr th:only-of-type {\n",
       "        vertical-align: middle;\n",
       "    }\n",
       "\n",
       "    .dataframe tbody tr th {\n",
       "        vertical-align: top;\n",
       "    }\n",
       "\n",
       "    .dataframe thead th {\n",
       "        text-align: right;\n",
       "    }\n",
       "</style>\n",
       "<table border=\"1\" class=\"dataframe\">\n",
       "  <thead>\n",
       "    <tr style=\"text-align: right;\">\n",
       "      <th></th>\n",
       "      <th>Data</th>\n",
       "      <th>Último</th>\n",
       "      <th>Abertura</th>\n",
       "      <th>Máxima</th>\n",
       "      <th>Mínima</th>\n",
       "      <th>Vol.</th>\n",
       "      <th>Var%</th>\n",
       "    </tr>\n",
       "  </thead>\n",
       "  <tbody>\n",
       "    <tr>\n",
       "      <th>0</th>\n",
       "      <td>19 de ago. de 2022</td>\n",
       "      <td>5,1695</td>\n",
       "      <td>5,1685</td>\n",
       "      <td>5,2192</td>\n",
       "      <td>5,1648</td>\n",
       "      <td>132,82K</td>\n",
       "      <td>0,04%</td>\n",
       "    </tr>\n",
       "    <tr>\n",
       "      <th>1</th>\n",
       "      <td>18 de ago. de 2022</td>\n",
       "      <td>5,1674</td>\n",
       "      <td>5,1655</td>\n",
       "      <td>5,2074</td>\n",
       "      <td>5,1283</td>\n",
       "      <td>149,11K</td>\n",
       "      <td>0,06%</td>\n",
       "    </tr>\n",
       "    <tr>\n",
       "      <th>2</th>\n",
       "      <td>17 de ago. de 2022</td>\n",
       "      <td>5,1642</td>\n",
       "      <td>5,1469</td>\n",
       "      <td>5,2144</td>\n",
       "      <td>5,1452</td>\n",
       "      <td>167,02K</td>\n",
       "      <td>0,36%</td>\n",
       "    </tr>\n",
       "    <tr>\n",
       "      <th>3</th>\n",
       "      <td>16 de ago. de 2022</td>\n",
       "      <td>5,1459</td>\n",
       "      <td>5,0987</td>\n",
       "      <td>5,1549</td>\n",
       "      <td>5,0965</td>\n",
       "      <td>148,45K</td>\n",
       "      <td>0,98%</td>\n",
       "    </tr>\n",
       "    <tr>\n",
       "      <th>4</th>\n",
       "      <td>15 de ago. de 2022</td>\n",
       "      <td>5,0961</td>\n",
       "      <td>5,0721</td>\n",
       "      <td>5,1409</td>\n",
       "      <td>5,0721</td>\n",
       "      <td>130,15K</td>\n",
       "      <td>0,45%</td>\n",
       "    </tr>\n",
       "    <tr>\n",
       "      <th>...</th>\n",
       "      <td>...</td>\n",
       "      <td>...</td>\n",
       "      <td>...</td>\n",
       "      <td>...</td>\n",
       "      <td>...</td>\n",
       "      <td>...</td>\n",
       "      <td>...</td>\n",
       "    </tr>\n",
       "    <tr>\n",
       "      <th>4836</th>\n",
       "      <td>05 de fev. de 2004</td>\n",
       "      <td>2,9310</td>\n",
       "      <td>2,9285</td>\n",
       "      <td>2,9430</td>\n",
       "      <td>2,9250</td>\n",
       "      <td>NaN</td>\n",
       "      <td>0,41%</td>\n",
       "    </tr>\n",
       "    <tr>\n",
       "      <th>4837</th>\n",
       "      <td>04 de fev. de 2004</td>\n",
       "      <td>2,9190</td>\n",
       "      <td>2,9210</td>\n",
       "      <td>2,9200</td>\n",
       "      <td>2,9010</td>\n",
       "      <td>NaN</td>\n",
       "      <td>0,07%</td>\n",
       "    </tr>\n",
       "    <tr>\n",
       "      <th>4838</th>\n",
       "      <td>03 de fev. de 2004</td>\n",
       "      <td>2,9170</td>\n",
       "      <td>2,9305</td>\n",
       "      <td>2,9390</td>\n",
       "      <td>2,9140</td>\n",
       "      <td>NaN</td>\n",
       "      <td>-0,85%</td>\n",
       "    </tr>\n",
       "    <tr>\n",
       "      <th>4839</th>\n",
       "      <td>02 de fev. de 2004</td>\n",
       "      <td>2,9420</td>\n",
       "      <td>2,9270</td>\n",
       "      <td>2,9570</td>\n",
       "      <td>2,9380</td>\n",
       "      <td>NaN</td>\n",
       "      <td>0,26%</td>\n",
       "    </tr>\n",
       "    <tr>\n",
       "      <th>4840</th>\n",
       "      <td>30 de jan. de 2004</td>\n",
       "      <td>2,9345</td>\n",
       "      <td>2,9315</td>\n",
       "      <td>2,9565</td>\n",
       "      <td>2,9135</td>\n",
       "      <td>NaN</td>\n",
       "      <td>0,12%</td>\n",
       "    </tr>\n",
       "  </tbody>\n",
       "</table>\n",
       "<p>4841 rows × 7 columns</p>\n",
       "</div>"
      ],
      "text/plain": [
       "                    Data  Último Abertura  Máxima  Mínima     Vol.    Var%\n",
       "0     19 de ago. de 2022  5,1695   5,1685  5,2192  5,1648  132,82K   0,04%\n",
       "1     18 de ago. de 2022  5,1674   5,1655  5,2074  5,1283  149,11K   0,06%\n",
       "2     17 de ago. de 2022  5,1642   5,1469  5,2144  5,1452  167,02K   0,36%\n",
       "3     16 de ago. de 2022  5,1459   5,0987  5,1549  5,0965  148,45K   0,98%\n",
       "4     15 de ago. de 2022  5,0961   5,0721  5,1409  5,0721  130,15K   0,45%\n",
       "...                  ...     ...      ...     ...     ...      ...     ...\n",
       "4836  05 de fev. de 2004  2,9310   2,9285  2,9430  2,9250      NaN   0,41%\n",
       "4837  04 de fev. de 2004  2,9190   2,9210  2,9200  2,9010      NaN   0,07%\n",
       "4838  03 de fev. de 2004  2,9170   2,9305  2,9390  2,9140      NaN  -0,85%\n",
       "4839  02 de fev. de 2004  2,9420   2,9270  2,9570  2,9380      NaN   0,26%\n",
       "4840  30 de jan. de 2004  2,9345   2,9315  2,9565  2,9135      NaN   0,12%\n",
       "\n",
       "[4841 rows x 7 columns]"
      ]
     },
     "execution_count": 3,
     "metadata": {},
     "output_type": "execute_result"
    }
   ],
   "source": [
    "df_usd_brl"
   ]
  },
  {
   "cell_type": "markdown",
   "id": "5a853d4d",
   "metadata": {},
   "source": [
    "Renomeei as colunas retirando acento"
   ]
  },
  {
   "cell_type": "code",
   "execution_count": 4,
   "id": "78383cb7",
   "metadata": {},
   "outputs": [],
   "source": [
    "df_usd_brl = df_usd_brl.rename(columns={df_usd_brl.columns[0]: 'DATA',\n",
    "                                        df_usd_brl.columns[3]: 'MAXIMA',                \n",
    "                                        df_usd_brl.columns[4]: 'MINIMA'})"
   ]
  },
  {
   "cell_type": "markdown",
   "id": "eb59fbef",
   "metadata": {},
   "source": [
    "Vírgulas substituídas por pontos para conseguir fazer conversão para float"
   ]
  },
  {
   "cell_type": "code",
   "execution_count": 5,
   "id": "fbdc67f8",
   "metadata": {},
   "outputs": [],
   "source": [
    "df_usd_brl['MAXIMA'] = df_usd_brl['MAXIMA'].str.replace(',','.')\n",
    "df_usd_brl['MINIMA'] = df_usd_brl['MINIMA'].str.replace(',','.')"
   ]
  },
  {
   "cell_type": "markdown",
   "id": "3d67c532",
   "metadata": {},
   "source": [
    "Conversão de strings em float"
   ]
  },
  {
   "cell_type": "code",
   "execution_count": 6,
   "id": "fa479541",
   "metadata": {},
   "outputs": [],
   "source": [
    "df_usd_brl['MAXIMA'] = pd.to_numeric(df_usd_brl['MAXIMA'], errors = 'raise')\n",
    "df_usd_brl['MINIMA'] = pd.to_numeric(df_usd_brl['MINIMA'], errors = 'raise')"
   ]
  },
  {
   "cell_type": "markdown",
   "id": "7981bc82",
   "metadata": {},
   "source": [
    "Média do dolar por dia"
   ]
  },
  {
   "cell_type": "code",
   "execution_count": 7,
   "id": "c3f37f74",
   "metadata": {
    "scrolled": true
   },
   "outputs": [],
   "source": [
    "df_usd_brl['MEDIA'] = df_usd_brl[['MAXIMA', 'MINIMA']].mean(axis=1)"
   ]
  },
  {
   "cell_type": "markdown",
   "id": "4c1c3146",
   "metadata": {},
   "source": [
    "Converter data para formato internacional"
   ]
  },
  {
   "cell_type": "code",
   "execution_count": 8,
   "id": "52cea462",
   "metadata": {},
   "outputs": [],
   "source": [
    "df_usd_brl['DATA'] = df_usd_brl['DATA'].str.replace(' de jan. de ','/01/', regex=True)\n",
    "df_usd_brl['DATA'] = df_usd_brl['DATA'].str.replace(' de fev. de ','/02/', regex=True)\n",
    "df_usd_brl['DATA'] = df_usd_brl['DATA'].str.replace(' de mar. de ','/03/', regex=True)\n",
    "df_usd_brl['DATA'] = df_usd_brl['DATA'].str.replace(' de abr. de ','/04/', regex=True)\n",
    "df_usd_brl['DATA'] = df_usd_brl['DATA'].str.replace(' de mai. de ','/05/', regex=True)\n",
    "df_usd_brl['DATA'] = df_usd_brl['DATA'].str.replace(' de jun. de ','/06/', regex=True)\n",
    "df_usd_brl['DATA'] = df_usd_brl['DATA'].str.replace(' de jul. de ','/07/', regex=True)\n",
    "df_usd_brl['DATA'] = df_usd_brl['DATA'].str.replace(' de ago. de ','/08/', regex=True)\n",
    "df_usd_brl['DATA'] = df_usd_brl['DATA'].str.replace(' de set. de ','/09/', regex=True)\n",
    "df_usd_brl['DATA'] = df_usd_brl['DATA'].str.replace(' de out. de ','/10/', regex=True)\n",
    "df_usd_brl['DATA'] = df_usd_brl['DATA'].str.replace(' de nov. de ','/11/', regex=True)\n",
    "df_usd_brl['DATA'] = df_usd_brl['DATA'].str.replace(' de dez. de ','/12/', regex=True)\n",
    "\n",
    "df_usd_brl['DATA'] = pd.to_datetime(df_usd_brl['DATA'], infer_datetime_format=True)"
   ]
  },
  {
   "cell_type": "markdown",
   "id": "8ded9c66",
   "metadata": {},
   "source": [
    "Filtro de datas do período necessário para análise"
   ]
  },
  {
   "cell_type": "code",
   "execution_count": 9,
   "id": "713b423a",
   "metadata": {},
   "outputs": [],
   "source": [
    "df_usd_brl = df_usd_brl.loc[(df_usd_brl['DATA'] >= '2004-05-09') & (df_usd_brl['DATA'] < '2021-04-25')]"
   ]
  },
  {
   "cell_type": "markdown",
   "id": "3f1f5882",
   "metadata": {},
   "source": [
    "Média do dolar mensal"
   ]
  },
  {
   "cell_type": "code",
   "execution_count": 10,
   "id": "afab8586",
   "metadata": {},
   "outputs": [
    {
     "data": {
      "text/html": [
       "<div>\n",
       "<style scoped>\n",
       "    .dataframe tbody tr th:only-of-type {\n",
       "        vertical-align: middle;\n",
       "    }\n",
       "\n",
       "    .dataframe tbody tr th {\n",
       "        vertical-align: top;\n",
       "    }\n",
       "\n",
       "    .dataframe thead th {\n",
       "        text-align: right;\n",
       "    }\n",
       "</style>\n",
       "<table border=\"1\" class=\"dataframe\">\n",
       "  <thead>\n",
       "    <tr style=\"text-align: right;\">\n",
       "      <th></th>\n",
       "      <th>DATA</th>\n",
       "      <th>MEDIA</th>\n",
       "    </tr>\n",
       "  </thead>\n",
       "  <tbody>\n",
       "    <tr>\n",
       "      <th>0</th>\n",
       "      <td>2004-05</td>\n",
       "      <td>3.137188</td>\n",
       "    </tr>\n",
       "    <tr>\n",
       "      <th>1</th>\n",
       "      <td>2004-06</td>\n",
       "      <td>3.128045</td>\n",
       "    </tr>\n",
       "    <tr>\n",
       "      <th>2</th>\n",
       "      <td>2004-07</td>\n",
       "      <td>3.038575</td>\n",
       "    </tr>\n",
       "    <tr>\n",
       "      <th>3</th>\n",
       "      <td>2004-08</td>\n",
       "      <td>3.003189</td>\n",
       "    </tr>\n",
       "    <tr>\n",
       "      <th>4</th>\n",
       "      <td>2004-09</td>\n",
       "      <td>2.892336</td>\n",
       "    </tr>\n",
       "    <tr>\n",
       "      <th>...</th>\n",
       "      <td>...</td>\n",
       "      <td>...</td>\n",
       "    </tr>\n",
       "    <tr>\n",
       "      <th>199</th>\n",
       "      <td>2020-12</td>\n",
       "      <td>5.151846</td>\n",
       "    </tr>\n",
       "    <tr>\n",
       "      <th>200</th>\n",
       "      <td>2021-01</td>\n",
       "      <td>5.343669</td>\n",
       "    </tr>\n",
       "    <tr>\n",
       "      <th>201</th>\n",
       "      <td>2021-02</td>\n",
       "      <td>5.413460</td>\n",
       "    </tr>\n",
       "    <tr>\n",
       "      <th>202</th>\n",
       "      <td>2021-03</td>\n",
       "      <td>5.641930</td>\n",
       "    </tr>\n",
       "    <tr>\n",
       "      <th>203</th>\n",
       "      <td>2021-04</td>\n",
       "      <td>5.616162</td>\n",
       "    </tr>\n",
       "  </tbody>\n",
       "</table>\n",
       "<p>204 rows × 2 columns</p>\n",
       "</div>"
      ],
      "text/plain": [
       "        DATA     MEDIA\n",
       "0    2004-05  3.137188\n",
       "1    2004-06  3.128045\n",
       "2    2004-07  3.038575\n",
       "3    2004-08  3.003189\n",
       "4    2004-09  2.892336\n",
       "..       ...       ...\n",
       "199  2020-12  5.151846\n",
       "200  2021-01  5.343669\n",
       "201  2021-02  5.413460\n",
       "202  2021-03  5.641930\n",
       "203  2021-04  5.616162\n",
       "\n",
       "[204 rows x 2 columns]"
      ]
     },
     "execution_count": 10,
     "metadata": {},
     "output_type": "execute_result"
    }
   ],
   "source": [
    "df_usd_brl = df_usd_brl.groupby(pd.PeriodIndex(df_usd_brl['DATA'], freq=\"M\"))['MEDIA'].mean().reset_index()\n",
    "df_usd_brl"
   ]
  },
  {
   "cell_type": "markdown",
   "id": "be43cca2",
   "metadata": {},
   "source": [
    "Padronizando a coluna média para duas casas decimais"
   ]
  },
  {
   "cell_type": "code",
   "execution_count": 11,
   "id": "5905eda3",
   "metadata": {},
   "outputs": [],
   "source": [
    "df_usd_brl['MEDIA']= df_usd_brl['MEDIA'].round(decimals = 2)"
   ]
  },
  {
   "cell_type": "markdown",
   "id": "f934d7c1",
   "metadata": {},
   "source": [
    "Exclusão de colunas que não serão utilizadas"
   ]
  },
  {
   "cell_type": "markdown",
   "id": "814e4848",
   "metadata": {},
   "source": [
    "Tabela após limpeza"
   ]
  },
  {
   "cell_type": "code",
   "execution_count": 12,
   "id": "64430443",
   "metadata": {
    "scrolled": true
   },
   "outputs": [
    {
     "name": "stdout",
     "output_type": "stream",
     "text": [
      "<class 'pandas.core.frame.DataFrame'>\n",
      "RangeIndex: 204 entries, 0 to 203\n",
      "Data columns (total 2 columns):\n",
      " #   Column  Non-Null Count  Dtype    \n",
      "---  ------  --------------  -----    \n",
      " 0   DATA    204 non-null    period[M]\n",
      " 1   MEDIA   204 non-null    float64  \n",
      "dtypes: float64(1), period[M](1)\n",
      "memory usage: 3.3 KB\n"
     ]
    }
   ],
   "source": [
    "df_usd_brl.info()"
   ]
  },
  {
   "cell_type": "code",
   "execution_count": 13,
   "id": "2ee2a739",
   "metadata": {},
   "outputs": [
    {
     "data": {
      "text/html": [
       "<div>\n",
       "<style scoped>\n",
       "    .dataframe tbody tr th:only-of-type {\n",
       "        vertical-align: middle;\n",
       "    }\n",
       "\n",
       "    .dataframe tbody tr th {\n",
       "        vertical-align: top;\n",
       "    }\n",
       "\n",
       "    .dataframe thead th {\n",
       "        text-align: right;\n",
       "    }\n",
       "</style>\n",
       "<table border=\"1\" class=\"dataframe\">\n",
       "  <thead>\n",
       "    <tr style=\"text-align: right;\">\n",
       "      <th></th>\n",
       "      <th>DATA</th>\n",
       "      <th>MEDIA</th>\n",
       "    </tr>\n",
       "  </thead>\n",
       "  <tbody>\n",
       "    <tr>\n",
       "      <th>0</th>\n",
       "      <td>2004-05</td>\n",
       "      <td>3.14</td>\n",
       "    </tr>\n",
       "    <tr>\n",
       "      <th>1</th>\n",
       "      <td>2004-06</td>\n",
       "      <td>3.13</td>\n",
       "    </tr>\n",
       "    <tr>\n",
       "      <th>2</th>\n",
       "      <td>2004-07</td>\n",
       "      <td>3.04</td>\n",
       "    </tr>\n",
       "    <tr>\n",
       "      <th>3</th>\n",
       "      <td>2004-08</td>\n",
       "      <td>3.00</td>\n",
       "    </tr>\n",
       "    <tr>\n",
       "      <th>4</th>\n",
       "      <td>2004-09</td>\n",
       "      <td>2.89</td>\n",
       "    </tr>\n",
       "    <tr>\n",
       "      <th>...</th>\n",
       "      <td>...</td>\n",
       "      <td>...</td>\n",
       "    </tr>\n",
       "    <tr>\n",
       "      <th>199</th>\n",
       "      <td>2020-12</td>\n",
       "      <td>5.15</td>\n",
       "    </tr>\n",
       "    <tr>\n",
       "      <th>200</th>\n",
       "      <td>2021-01</td>\n",
       "      <td>5.34</td>\n",
       "    </tr>\n",
       "    <tr>\n",
       "      <th>201</th>\n",
       "      <td>2021-02</td>\n",
       "      <td>5.41</td>\n",
       "    </tr>\n",
       "    <tr>\n",
       "      <th>202</th>\n",
       "      <td>2021-03</td>\n",
       "      <td>5.64</td>\n",
       "    </tr>\n",
       "    <tr>\n",
       "      <th>203</th>\n",
       "      <td>2021-04</td>\n",
       "      <td>5.62</td>\n",
       "    </tr>\n",
       "  </tbody>\n",
       "</table>\n",
       "<p>204 rows × 2 columns</p>\n",
       "</div>"
      ],
      "text/plain": [
       "        DATA  MEDIA\n",
       "0    2004-05   3.14\n",
       "1    2004-06   3.13\n",
       "2    2004-07   3.04\n",
       "3    2004-08   3.00\n",
       "4    2004-09   2.89\n",
       "..       ...    ...\n",
       "199  2020-12   5.15\n",
       "200  2021-01   5.34\n",
       "201  2021-02   5.41\n",
       "202  2021-03   5.64\n",
       "203  2021-04   5.62\n",
       "\n",
       "[204 rows x 2 columns]"
      ]
     },
     "execution_count": 13,
     "metadata": {},
     "output_type": "execute_result"
    }
   ],
   "source": [
    "df_usd_brl"
   ]
  },
  {
   "cell_type": "code",
   "execution_count": 14,
   "id": "41fbcd4c",
   "metadata": {},
   "outputs": [],
   "source": [
    "df_usd_brl.to_csv('../data/usd_brl_data.csv', index=False)"
   ]
  },
  {
   "cell_type": "code",
   "execution_count": null,
   "id": "bf85ed15",
   "metadata": {},
   "outputs": [],
   "source": []
  }
 ],
 "metadata": {
  "kernelspec": {
   "display_name": "Python 3.9.7 ('base')",
   "language": "python",
   "name": "python3"
  },
  "language_info": {
   "codemirror_mode": {
    "name": "ipython",
    "version": 3
   },
   "file_extension": ".py",
   "mimetype": "text/x-python",
   "name": "python",
   "nbconvert_exporter": "python",
   "pygments_lexer": "ipython3",
   "version": "3.9.7"
  },
  "vscode": {
   "interpreter": {
    "hash": "40d3a090f54c6569ab1632332b64b2c03c39dcf918b08424e98f38b5ae0af88f"
   }
  }
 },
 "nbformat": 4,
 "nbformat_minor": 5
}
