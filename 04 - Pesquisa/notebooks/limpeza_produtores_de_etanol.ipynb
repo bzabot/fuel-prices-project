{
 "cells": [
  {
   "cell_type": "code",
   "execution_count": 20,
   "metadata": {},
   "outputs": [],
   "source": [
    "import pandas as pd\n",
    "\n",
    "df_produtores_etanol = pd.read_csv('../data/producao-etanol-anidro-hidratado-m3-2012-2022.csv', delimiter=\";\")"
   ]
  },
  {
   "cell_type": "code",
   "execution_count": 21,
   "metadata": {},
   "outputs": [
    {
     "data": {
      "text/html": [
       "<div>\n",
       "<style scoped>\n",
       "    .dataframe tbody tr th:only-of-type {\n",
       "        vertical-align: middle;\n",
       "    }\n",
       "\n",
       "    .dataframe tbody tr th {\n",
       "        vertical-align: top;\n",
       "    }\n",
       "\n",
       "    .dataframe thead th {\n",
       "        text-align: right;\n",
       "    }\n",
       "</style>\n",
       "<table border=\"1\" class=\"dataframe\">\n",
       "  <thead>\n",
       "    <tr style=\"text-align: right;\">\n",
       "      <th></th>\n",
       "      <th>ANO</th>\n",
       "      <th>MÊS</th>\n",
       "      <th>GRANDE REGIÃO</th>\n",
       "      <th>UNIDADE DA FEDERAÇÃO</th>\n",
       "      <th>PRODUTO</th>\n",
       "      <th>PRODUÇÃO</th>\n",
       "    </tr>\n",
       "  </thead>\n",
       "  <tbody>\n",
       "    <tr>\n",
       "      <th>0</th>\n",
       "      <td>2012</td>\n",
       "      <td>JAN</td>\n",
       "      <td>REGIÃO NORTE</td>\n",
       "      <td>RONDONIA</td>\n",
       "      <td>ANIDRO</td>\n",
       "      <td>0</td>\n",
       "    </tr>\n",
       "    <tr>\n",
       "      <th>1</th>\n",
       "      <td>2012</td>\n",
       "      <td>FEV</td>\n",
       "      <td>REGIÃO NORTE</td>\n",
       "      <td>RONDONIA</td>\n",
       "      <td>ANIDRO</td>\n",
       "      <td>0</td>\n",
       "    </tr>\n",
       "    <tr>\n",
       "      <th>2</th>\n",
       "      <td>2012</td>\n",
       "      <td>MAR</td>\n",
       "      <td>REGIÃO NORTE</td>\n",
       "      <td>RONDONIA</td>\n",
       "      <td>ANIDRO</td>\n",
       "      <td>0</td>\n",
       "    </tr>\n",
       "    <tr>\n",
       "      <th>3</th>\n",
       "      <td>2012</td>\n",
       "      <td>ABR</td>\n",
       "      <td>REGIÃO NORTE</td>\n",
       "      <td>RONDONIA</td>\n",
       "      <td>ANIDRO</td>\n",
       "      <td>0</td>\n",
       "    </tr>\n",
       "    <tr>\n",
       "      <th>4</th>\n",
       "      <td>2012</td>\n",
       "      <td>MAI</td>\n",
       "      <td>REGIÃO NORTE</td>\n",
       "      <td>RONDONIA</td>\n",
       "      <td>ANIDRO</td>\n",
       "      <td>0</td>\n",
       "    </tr>\n",
       "    <tr>\n",
       "      <th>5</th>\n",
       "      <td>2012</td>\n",
       "      <td>JUN</td>\n",
       "      <td>REGIÃO NORTE</td>\n",
       "      <td>RONDONIA</td>\n",
       "      <td>ANIDRO</td>\n",
       "      <td>0</td>\n",
       "    </tr>\n",
       "    <tr>\n",
       "      <th>6</th>\n",
       "      <td>2012</td>\n",
       "      <td>JUL</td>\n",
       "      <td>REGIÃO NORTE</td>\n",
       "      <td>RONDONIA</td>\n",
       "      <td>ANIDRO</td>\n",
       "      <td>0</td>\n",
       "    </tr>\n",
       "    <tr>\n",
       "      <th>7</th>\n",
       "      <td>2012</td>\n",
       "      <td>AGO</td>\n",
       "      <td>REGIÃO NORTE</td>\n",
       "      <td>RONDONIA</td>\n",
       "      <td>ANIDRO</td>\n",
       "      <td>0</td>\n",
       "    </tr>\n",
       "    <tr>\n",
       "      <th>8</th>\n",
       "      <td>2012</td>\n",
       "      <td>SET</td>\n",
       "      <td>REGIÃO NORTE</td>\n",
       "      <td>RONDONIA</td>\n",
       "      <td>ANIDRO</td>\n",
       "      <td>0</td>\n",
       "    </tr>\n",
       "    <tr>\n",
       "      <th>9</th>\n",
       "      <td>2012</td>\n",
       "      <td>OUT</td>\n",
       "      <td>REGIÃO NORTE</td>\n",
       "      <td>RONDONIA</td>\n",
       "      <td>ANIDRO</td>\n",
       "      <td>0</td>\n",
       "    </tr>\n",
       "  </tbody>\n",
       "</table>\n",
       "</div>"
      ],
      "text/plain": [
       "    ANO  MÊS GRANDE REGIÃO UNIDADE DA FEDERAÇÃO PRODUTO PRODUÇÃO\n",
       "0  2012  JAN  REGIÃO NORTE             RONDONIA  ANIDRO        0\n",
       "1  2012  FEV  REGIÃO NORTE             RONDONIA  ANIDRO        0\n",
       "2  2012  MAR  REGIÃO NORTE             RONDONIA  ANIDRO        0\n",
       "3  2012  ABR  REGIÃO NORTE             RONDONIA  ANIDRO        0\n",
       "4  2012  MAI  REGIÃO NORTE             RONDONIA  ANIDRO        0\n",
       "5  2012  JUN  REGIÃO NORTE             RONDONIA  ANIDRO        0\n",
       "6  2012  JUL  REGIÃO NORTE             RONDONIA  ANIDRO        0\n",
       "7  2012  AGO  REGIÃO NORTE             RONDONIA  ANIDRO        0\n",
       "8  2012  SET  REGIÃO NORTE             RONDONIA  ANIDRO        0\n",
       "9  2012  OUT  REGIÃO NORTE             RONDONIA  ANIDRO        0"
      ]
     },
     "execution_count": 21,
     "metadata": {},
     "output_type": "execute_result"
    }
   ],
   "source": [
    "df_produtores_etanol[:10]"
   ]
  },
  {
   "cell_type": "code",
   "execution_count": 22,
   "metadata": {},
   "outputs": [],
   "source": [
    "df_produtores_etanol = df_produtores_etanol.rename(columns={\n",
    "                                 df_produtores_etanol.columns[0]: 'ano',  \n",
    "                                 df_produtores_etanol.columns[2]: 'regiao',    \n",
    "                                 df_produtores_etanol.columns[3]: 'sigla_uf',\n",
    "                                 df_produtores_etanol.columns[5]: 'producao'})"
   ]
  },
  {
   "cell_type": "code",
   "execution_count": 23,
   "metadata": {},
   "outputs": [],
   "source": [
    "df_produtores_etanol[\"regiao\"] = df_produtores_etanol[\"regiao\"].replace(\"REGIÃO NORTE\", \"NORTE\", regex=True)\n",
    "df_produtores_etanol[\"regiao\"] = df_produtores_etanol[\"regiao\"].replace(\"REGIÃO SUL\", \"SUL\", regex=True)\n",
    "df_produtores_etanol[\"regiao\"] = df_produtores_etanol[\"regiao\"].replace(\"REGIÃO NORDESTE\", \"NORDESTE\", regex=True)\n",
    "df_produtores_etanol[\"regiao\"] = df_produtores_etanol[\"regiao\"].replace(\"REGIÃO SUDESTE\", \"SUDESTE\", regex=True)\n",
    "df_produtores_etanol[\"regiao\"] = df_produtores_etanol[\"regiao\"].replace(\"REGIÃO CENTRO OESTE\", \"CENTRO OESTE\", regex=True)"
   ]
  },
  {
   "cell_type": "code",
   "execution_count": 24,
   "metadata": {},
   "outputs": [
    {
     "data": {
      "text/plain": [
       "array(['NORTE', 'NORDESTE', 'SUDESTE', 'SUL', 'CENTRO OESTE'],\n",
       "      dtype=object)"
      ]
     },
     "execution_count": 24,
     "metadata": {},
     "output_type": "execute_result"
    }
   ],
   "source": [
    "df_produtores_etanol[\"regiao\"].unique()"
   ]
  },
  {
   "cell_type": "code",
   "execution_count": 25,
   "metadata": {},
   "outputs": [],
   "source": [
    "df_produtores_etanol[\"sigla_uf\"] = df_produtores_etanol[\"sigla_uf\"].replace(\"RONDONIA\", \"RO\", regex=True)\n",
    "df_produtores_etanol[\"sigla_uf\"] = df_produtores_etanol[\"sigla_uf\"].replace(\"ACRE\", \"AC\", regex=True)\n",
    "df_produtores_etanol[\"sigla_uf\"] = df_produtores_etanol[\"sigla_uf\"].replace(\"AMAZONAS\", \"AM\", regex=True)\n",
    "df_produtores_etanol[\"sigla_uf\"] = df_produtores_etanol[\"sigla_uf\"].replace(\"RORAIMA\", \"RR\", regex=True)\n",
    "df_produtores_etanol[\"sigla_uf\"] = df_produtores_etanol[\"sigla_uf\"].replace(\"PARA\", \"PA\", regex=True)\n",
    "df_produtores_etanol[\"sigla_uf\"] = df_produtores_etanol[\"sigla_uf\"].replace(\"AMAPA\", \"AP\", regex=True)\n",
    "df_produtores_etanol[\"sigla_uf\"] = df_produtores_etanol[\"sigla_uf\"].replace(\"TOCANTINS\", \"TO\", regex=True)\n",
    "df_produtores_etanol[\"sigla_uf\"] = df_produtores_etanol[\"sigla_uf\"].replace(\"MARANHÃO\", \"MA\", regex=True)\n",
    "df_produtores_etanol[\"sigla_uf\"] = df_produtores_etanol[\"sigla_uf\"].replace(\"PIAUI\", \"PI\", regex=True)\n",
    "df_produtores_etanol[\"sigla_uf\"] = df_produtores_etanol[\"sigla_uf\"].replace(\"CEARÁ\", \"CE\", regex=True)\n",
    "df_produtores_etanol[\"sigla_uf\"] = df_produtores_etanol[\"sigla_uf\"].replace(\"RIO GRANDE DO NORTE\", \"RN\", regex=True)\n",
    "df_produtores_etanol[\"sigla_uf\"] = df_produtores_etanol[\"sigla_uf\"].replace(\"PAIBA\", \"PB\", regex=True)\n",
    "df_produtores_etanol[\"sigla_uf\"] = df_produtores_etanol[\"sigla_uf\"].replace(\"PERNAMBUCO\", \"PE\", regex=True)\n",
    "df_produtores_etanol[\"sigla_uf\"] = df_produtores_etanol[\"sigla_uf\"].replace(\"ALAGOAS\", \"AL\", regex=True)\n",
    "df_produtores_etanol[\"sigla_uf\"] = df_produtores_etanol[\"sigla_uf\"].replace(\"SERGIPE\", \"SE\", regex=True)\n",
    "df_produtores_etanol[\"sigla_uf\"] = df_produtores_etanol[\"sigla_uf\"].replace(\"BAHIA\", \"BA\", regex=True)\n",
    "df_produtores_etanol[\"sigla_uf\"] = df_produtores_etanol[\"sigla_uf\"].replace(\"MINAS GERAIS\", \"MG\", regex=True)\n",
    "df_produtores_etanol[\"sigla_uf\"] = df_produtores_etanol[\"sigla_uf\"].replace(\"ESPÍRITO SANTO\", \"ES\", regex=True)\n",
    "df_produtores_etanol[\"sigla_uf\"] = df_produtores_etanol[\"sigla_uf\"].replace(\"RIO DE JANEIRO\", \"RJ\", regex=True)\n",
    "df_produtores_etanol[\"sigla_uf\"] = df_produtores_etanol[\"sigla_uf\"].replace(\"SÃO PAULO\", \"SP\", regex=True)\n",
    "df_produtores_etanol[\"sigla_uf\"] = df_produtores_etanol[\"sigla_uf\"].replace(\"PANÁ\", \"PR\", regex=True)\n",
    "df_produtores_etanol[\"sigla_uf\"] = df_produtores_etanol[\"sigla_uf\"].replace(\"SANTA CATARINA\", \"SC\", regex=True)\n",
    "df_produtores_etanol[\"sigla_uf\"] = df_produtores_etanol[\"sigla_uf\"].replace(\"RIO GRANDE DO SUL\", \"RS\", regex=True)\n",
    "df_produtores_etanol[\"sigla_uf\"] = df_produtores_etanol[\"sigla_uf\"].replace(\"MATO GROSSO DO SUL\", \"MS\", regex=True)\n",
    "df_produtores_etanol[\"sigla_uf\"] = df_produtores_etanol[\"sigla_uf\"].replace(\"MATO GROSSO\", \"MT\", regex=True)\n",
    "df_produtores_etanol[\"sigla_uf\"] = df_produtores_etanol[\"sigla_uf\"].replace(\"GOIAS\", \"GO\", regex=True)\n",
    "df_produtores_etanol[\"sigla_uf\"] = df_produtores_etanol[\"sigla_uf\"].replace(\"BRASILIA\", \"DF\", regex=True)"
   ]
  },
  {
   "cell_type": "code",
   "execution_count": 26,
   "metadata": {},
   "outputs": [
    {
     "data": {
      "text/plain": [
       "array(['RO', 'AC', 'AM', 'RR', 'PA', 'TO', 'MA', 'PI', 'CE', 'RN', 'PB',\n",
       "       'PE', 'AL', 'SE', 'BA', 'MG', 'ES', 'RJ', 'SP', 'PR', 'SC', 'RS',\n",
       "       'MS', 'MT', 'GO', 'DF', 'AP'], dtype=object)"
      ]
     },
     "execution_count": 26,
     "metadata": {},
     "output_type": "execute_result"
    }
   ],
   "source": [
    "df_produtores_etanol[\"sigla_uf\"].unique()"
   ]
  },
  {
   "cell_type": "code",
   "execution_count": 27,
   "metadata": {},
   "outputs": [
    {
     "data": {
      "text/plain": [
       "array([2012, 2013, 2014, 2015, 2016, 2017, 2018, 2019, 2020, 2021, 2022])"
      ]
     },
     "execution_count": 27,
     "metadata": {},
     "output_type": "execute_result"
    }
   ],
   "source": [
    "df_produtores_etanol[\"ano\"].unique()"
   ]
  },
  {
   "cell_type": "code",
   "execution_count": 28,
   "metadata": {},
   "outputs": [],
   "source": [
    "df_produtores_etanol.to_csv('../data/pruducao_etanol_limpo.csv', index=False)"
   ]
  },
  {
   "cell_type": "code",
   "execution_count": null,
   "metadata": {},
   "outputs": [],
   "source": []
  }
 ],
 "metadata": {
  "kernelspec": {
   "display_name": "Python 3.10.6 ('geo_env')",
   "language": "python",
   "name": "python3"
  },
  "language_info": {
   "codemirror_mode": {
    "name": "ipython",
    "version": 3
   },
   "file_extension": ".py",
   "mimetype": "text/x-python",
   "name": "python",
   "nbconvert_exporter": "python",
   "pygments_lexer": "ipython3",
   "version": "3.10.6"
  },
  "orig_nbformat": 4,
  "vscode": {
   "interpreter": {
    "hash": "bb0ab964245ff9c784ee5a02af168298486e0b68be3b7c9492da5aad1b887acd"
   }
  }
 },
 "nbformat": 4,
 "nbformat_minor": 2
}
