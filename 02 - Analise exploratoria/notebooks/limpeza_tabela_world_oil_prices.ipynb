{
 "cells": [
  {
   "cell_type": "code",
   "execution_count": 30,
   "id": "54815c73",
   "metadata": {},
   "outputs": [],
   "source": [
    "import pandas as pd\n",
    "import numpy as np\n",
    "\n",
    "%matplotlib inline\n",
    "\n",
    "df_world_oil_prices = pd.read_csv('../data/tabelas antes da limpeza/Brent_oil_prices.csv')"
   ]
  },
  {
   "cell_type": "markdown",
   "id": "e38581f3",
   "metadata": {},
   "source": [
    "Tabela antes da limpeza"
   ]
  },
  {
   "cell_type": "code",
   "execution_count": 31,
   "id": "596f23c9",
   "metadata": {
    "scrolled": true
   },
   "outputs": [
    {
     "name": "stdout",
     "output_type": "stream",
     "text": [
      "<class 'pandas.core.frame.DataFrame'>\n",
      "RangeIndex: 8554 entries, 0 to 8553\n",
      "Data columns (total 2 columns):\n",
      " #   Column  Non-Null Count  Dtype  \n",
      "---  ------  --------------  -----  \n",
      " 0   Date    8554 non-null   object \n",
      " 1   Price   8554 non-null   float64\n",
      "dtypes: float64(1), object(1)\n",
      "memory usage: 133.8+ KB\n"
     ]
    }
   ],
   "source": [
    "df_world_oil_prices.info()"
   ]
  },
  {
   "cell_type": "code",
   "execution_count": 32,
   "id": "73ac6c09",
   "metadata": {},
   "outputs": [
    {
     "data": {
      "text/html": [
       "<div>\n",
       "<style scoped>\n",
       "    .dataframe tbody tr th:only-of-type {\n",
       "        vertical-align: middle;\n",
       "    }\n",
       "\n",
       "    .dataframe tbody tr th {\n",
       "        vertical-align: top;\n",
       "    }\n",
       "\n",
       "    .dataframe thead th {\n",
       "        text-align: right;\n",
       "    }\n",
       "</style>\n",
       "<table border=\"1\" class=\"dataframe\">\n",
       "  <thead>\n",
       "    <tr style=\"text-align: right;\">\n",
       "      <th></th>\n",
       "      <th>Date</th>\n",
       "      <th>Price</th>\n",
       "    </tr>\n",
       "  </thead>\n",
       "  <tbody>\n",
       "    <tr>\n",
       "      <th>0</th>\n",
       "      <td>20-May-87</td>\n",
       "      <td>18.63</td>\n",
       "    </tr>\n",
       "    <tr>\n",
       "      <th>1</th>\n",
       "      <td>21-May-87</td>\n",
       "      <td>18.45</td>\n",
       "    </tr>\n",
       "    <tr>\n",
       "      <th>2</th>\n",
       "      <td>22-May-87</td>\n",
       "      <td>18.55</td>\n",
       "    </tr>\n",
       "    <tr>\n",
       "      <th>3</th>\n",
       "      <td>25-May-87</td>\n",
       "      <td>18.60</td>\n",
       "    </tr>\n",
       "    <tr>\n",
       "      <th>4</th>\n",
       "      <td>26-May-87</td>\n",
       "      <td>18.63</td>\n",
       "    </tr>\n",
       "    <tr>\n",
       "      <th>...</th>\n",
       "      <td>...</td>\n",
       "      <td>...</td>\n",
       "    </tr>\n",
       "    <tr>\n",
       "      <th>8549</th>\n",
       "      <td>Jan 19, 2021</td>\n",
       "      <td>55.38</td>\n",
       "    </tr>\n",
       "    <tr>\n",
       "      <th>8550</th>\n",
       "      <td>Jan 20, 2021</td>\n",
       "      <td>55.66</td>\n",
       "    </tr>\n",
       "    <tr>\n",
       "      <th>8551</th>\n",
       "      <td>Jan 21, 2021</td>\n",
       "      <td>55.68</td>\n",
       "    </tr>\n",
       "    <tr>\n",
       "      <th>8552</th>\n",
       "      <td>Jan 22, 2021</td>\n",
       "      <td>55.22</td>\n",
       "    </tr>\n",
       "    <tr>\n",
       "      <th>8553</th>\n",
       "      <td>Jan 25, 2021</td>\n",
       "      <td>55.44</td>\n",
       "    </tr>\n",
       "  </tbody>\n",
       "</table>\n",
       "<p>8554 rows × 2 columns</p>\n",
       "</div>"
      ],
      "text/plain": [
       "              Date  Price\n",
       "0        20-May-87  18.63\n",
       "1        21-May-87  18.45\n",
       "2        22-May-87  18.55\n",
       "3        25-May-87  18.60\n",
       "4        26-May-87  18.63\n",
       "...            ...    ...\n",
       "8549  Jan 19, 2021  55.38\n",
       "8550  Jan 20, 2021  55.66\n",
       "8551  Jan 21, 2021  55.68\n",
       "8552  Jan 22, 2021  55.22\n",
       "8553  Jan 25, 2021  55.44\n",
       "\n",
       "[8554 rows x 2 columns]"
      ]
     },
     "execution_count": 32,
     "metadata": {},
     "output_type": "execute_result"
    }
   ],
   "source": [
    "df_world_oil_prices"
   ]
  },
  {
   "cell_type": "markdown",
   "id": "e60370a3",
   "metadata": {},
   "source": [
    "Conversão para o formato de data"
   ]
  },
  {
   "cell_type": "code",
   "execution_count": 33,
   "id": "e9911608",
   "metadata": {},
   "outputs": [],
   "source": [
    "df_world_oil_prices['Date'] = df_world_oil_prices['Date'].astype('datetime64[ns]')"
   ]
  },
  {
   "cell_type": "markdown",
   "id": "0ae92947",
   "metadata": {},
   "source": [
    "Filtro do período de datas necessário"
   ]
  },
  {
   "cell_type": "code",
   "execution_count": 34,
   "id": "50edee93",
   "metadata": {},
   "outputs": [],
   "source": [
    "df_world_oil_prices = df_world_oil_prices.loc[(df_world_oil_prices['Date'] >= '2004-05-09') & (df_world_oil_prices['Date'] < '2021-05-01')]"
   ]
  },
  {
   "cell_type": "markdown",
   "id": "c72d4a9d",
   "metadata": {},
   "source": [
    "Média mensal da coluna preço do petróleo "
   ]
  },
  {
   "cell_type": "code",
   "execution_count": 35,
   "id": "629f3eda",
   "metadata": {},
   "outputs": [],
   "source": [
    "df_world_oil_prices = df_world_oil_prices.groupby(pd.PeriodIndex(df_world_oil_prices['Date'], freq=\"M\"))['Price'].mean().reset_index()"
   ]
  },
  {
   "cell_type": "markdown",
   "id": "d5b790a5",
   "metadata": {},
   "source": [
    "Aproximação para duas casas decimais "
   ]
  },
  {
   "cell_type": "code",
   "execution_count": 36,
   "id": "6ce22419",
   "metadata": {},
   "outputs": [],
   "source": [
    "df_world_oil_prices['Price']= df_world_oil_prices['Price'].round(decimals = 2)"
   ]
  },
  {
   "cell_type": "markdown",
   "id": "463641d1",
   "metadata": {},
   "source": [
    "Tabela após limpeza"
   ]
  },
  {
   "cell_type": "code",
   "execution_count": 37,
   "id": "b2288123",
   "metadata": {},
   "outputs": [
    {
     "data": {
      "text/html": [
       "<div>\n",
       "<style scoped>\n",
       "    .dataframe tbody tr th:only-of-type {\n",
       "        vertical-align: middle;\n",
       "    }\n",
       "\n",
       "    .dataframe tbody tr th {\n",
       "        vertical-align: top;\n",
       "    }\n",
       "\n",
       "    .dataframe thead th {\n",
       "        text-align: right;\n",
       "    }\n",
       "</style>\n",
       "<table border=\"1\" class=\"dataframe\">\n",
       "  <thead>\n",
       "    <tr style=\"text-align: right;\">\n",
       "      <th></th>\n",
       "      <th>Date</th>\n",
       "      <th>Price</th>\n",
       "    </tr>\n",
       "  </thead>\n",
       "  <tbody>\n",
       "    <tr>\n",
       "      <th>0</th>\n",
       "      <td>2004-05</td>\n",
       "      <td>37.94</td>\n",
       "    </tr>\n",
       "    <tr>\n",
       "      <th>1</th>\n",
       "      <td>2004-06</td>\n",
       "      <td>35.18</td>\n",
       "    </tr>\n",
       "    <tr>\n",
       "      <th>2</th>\n",
       "      <td>2004-07</td>\n",
       "      <td>38.22</td>\n",
       "    </tr>\n",
       "    <tr>\n",
       "      <th>3</th>\n",
       "      <td>2004-08</td>\n",
       "      <td>42.74</td>\n",
       "    </tr>\n",
       "    <tr>\n",
       "      <th>4</th>\n",
       "      <td>2004-09</td>\n",
       "      <td>43.20</td>\n",
       "    </tr>\n",
       "    <tr>\n",
       "      <th>...</th>\n",
       "      <td>...</td>\n",
       "      <td>...</td>\n",
       "    </tr>\n",
       "    <tr>\n",
       "      <th>196</th>\n",
       "      <td>2020-09</td>\n",
       "      <td>40.91</td>\n",
       "    </tr>\n",
       "    <tr>\n",
       "      <th>197</th>\n",
       "      <td>2020-10</td>\n",
       "      <td>40.19</td>\n",
       "    </tr>\n",
       "    <tr>\n",
       "      <th>198</th>\n",
       "      <td>2020-11</td>\n",
       "      <td>42.69</td>\n",
       "    </tr>\n",
       "    <tr>\n",
       "      <th>199</th>\n",
       "      <td>2020-12</td>\n",
       "      <td>49.99</td>\n",
       "    </tr>\n",
       "    <tr>\n",
       "      <th>200</th>\n",
       "      <td>2021-01</td>\n",
       "      <td>54.69</td>\n",
       "    </tr>\n",
       "  </tbody>\n",
       "</table>\n",
       "<p>201 rows × 2 columns</p>\n",
       "</div>"
      ],
      "text/plain": [
       "        Date  Price\n",
       "0    2004-05  37.94\n",
       "1    2004-06  35.18\n",
       "2    2004-07  38.22\n",
       "3    2004-08  42.74\n",
       "4    2004-09  43.20\n",
       "..       ...    ...\n",
       "196  2020-09  40.91\n",
       "197  2020-10  40.19\n",
       "198  2020-11  42.69\n",
       "199  2020-12  49.99\n",
       "200  2021-01  54.69\n",
       "\n",
       "[201 rows x 2 columns]"
      ]
     },
     "execution_count": 37,
     "metadata": {},
     "output_type": "execute_result"
    }
   ],
   "source": [
    "df_world_oil_prices"
   ]
  },
  {
   "cell_type": "code",
   "execution_count": null,
   "id": "0ea76b20",
   "metadata": {},
   "outputs": [],
   "source": []
  }
 ],
 "metadata": {
  "kernelspec": {
   "display_name": "Python 3 (ipykernel)",
   "language": "python",
   "name": "python3"
  },
  "language_info": {
   "codemirror_mode": {
    "name": "ipython",
    "version": 3
   },
   "file_extension": ".py",
   "mimetype": "text/x-python",
   "name": "python",
   "nbconvert_exporter": "python",
   "pygments_lexer": "ipython3",
   "version": "3.9.7"
  }
 },
 "nbformat": 4,
 "nbformat_minor": 5
}
